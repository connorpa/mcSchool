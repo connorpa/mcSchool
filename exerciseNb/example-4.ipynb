{
 "cells": [
  {
   "cell_type": "markdown",
   "metadata": {},
   "source": [
    "# Demonstration of hit & mis method\n",
    "Import what is needed"
   ]
  },
  {
   "cell_type": "code",
   "execution_count": null,
   "metadata": {},
   "outputs": [],
   "source": [
    "from ROOT import gRandom\n",
    "from math import sqrt"
   ]
  },
  {
   "cell_type": "markdown",
   "metadata": {},
   "source": [
    "Loop over random points in the 2D space"
   ]
  },
  {
   "cell_type": "code",
   "execution_count": null,
   "metadata": {},
   "outputs": [],
   "source": [
    "nhit = 0\n",
    "npoints = 2000000\n",
    "for n in range(npoints):\n",
    "    x,y = gRandom.Uniform(), gRandom.Uniform()\n",
    "    #accept if y < x\n",
    "    if y < x:\n",
    "        nhit += 1"
   ]
  },
  {
   "cell_type": "markdown",
   "metadata": {},
   "source": [
    "Calculate the integral"
   ]
  },
  {
   "cell_type": "code",
   "execution_count": null,
   "metadata": {},
   "outputs": [],
   "source": [
    "Int = float(nhit)/npoints"
   ]
  },
  {
   "cell_type": "markdown",
   "metadata": {},
   "source": [
    "And error using binomial formula"
   ]
  },
  {
   "cell_type": "code",
   "execution_count": null,
   "metadata": {},
   "outputs": [],
   "source": [
    "sigma2 = (1. - Int)/nhit\n",
    "error = sqrt(sigma2)*Int"
   ]
  },
  {
   "cell_type": "markdown",
   "metadata": {},
   "source": [
    "Show the results"
   ]
  },
  {
   "cell_type": "code",
   "execution_count": null,
   "metadata": {},
   "outputs": [],
   "source": [
    "print \" integral for  is: \", Int, \"+/-\", error\n",
    "print \" true integral  is : 0.5 \""
   ]
  }
 ],
 "metadata": {},
 "nbformat": 4,
 "nbformat_minor": 2
}
