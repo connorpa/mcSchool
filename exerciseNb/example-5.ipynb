{
 "cells": [
  {
   "cell_type": "markdown",
   "metadata": {},
   "source": [
    "# Example on the importance sampling usage\n",
    "Import what will be needed"
   ]
  },
  {
   "cell_type": "code",
   "execution_count": null,
   "metadata": {},
   "outputs": [],
   "source": [
    "from ROOT import gRandom, TMath\n",
    "from math import sqrt, log"
   ]
  },
  {
   "cell_type": "markdown",
   "metadata": {},
   "source": [
    "Define function which we want to integrate"
   ]
  },
  {
   "cell_type": "code",
   "execution_count": null,
   "metadata": {},
   "outputs": [],
   "source": [
    "def g0(z):\n",
    "    return (1 - z)**5 / z"
   ]
  },
  {
   "cell_type": "markdown",
   "metadata": {},
   "source": [
    "The lower limit of the integration, the upper is 1"
   ]
  },
  {
   "cell_type": "code",
   "execution_count": null,
   "metadata": {},
   "outputs": [],
   "source": [
    "xmin = 1e-4"
   ]
  },
  {
   "cell_type": "markdown",
   "metadata": {},
   "source": [
    "Generate npoints randomly with importance sampling"
   ]
  },
  {
   "cell_type": "code",
   "execution_count": null,
   "metadata": {},
   "outputs": [],
   "source": [
    "npoints = 1000000\n",
    "xg0 = xg00 = 0\n",
    "for n1 in range(npoints):\n",
    "    #here do the calcualtion with importance sampling\n",
    "    x0 = xmin**gRandom.Uniform()\n",
    "    weight = x0*log(1/xmin)\n",
    "    # here do the calcualtion using linear sampling\n",
    "    # x0 = xmin+(1-xmin)*gRandom.Uniform()\n",
    "    # weight = 1-xmin\n",
    "    f  = g0(x0) \n",
    "    ff = weight*f\n",
    "    xg0  +=  ff\n",
    "    xg00 +=  ff**2"
   ]
  },
  {
   "cell_type": "markdown",
   "metadata": {},
   "source": [
    "Calculate the MC integral"
   ]
  },
  {
   "cell_type": "code",
   "execution_count": null,
   "metadata": {},
   "outputs": [],
   "source": [
    "xg0  /= npoints\n",
    "xg00 /= npoints\n",
    "sigma2 = xg00 - xg0*xg0\n",
    "error  = sqrt(sigma2/npoints)\n",
    "print \" integral for g(x) = (1-x)**5/x is: \",xg0,\"+/-\", error"
   ]
  },
  {
   "cell_type": "markdown",
   "metadata": {},
   "source": [
    "Get the exact value using incomplete beta function [https://en.wikipedia.org/wiki/Beta_function]"
   ]
  },
  {
   "cell_type": "code",
   "execution_count": null,
   "metadata": {},
   "outputs": [],
   "source": [
    "x = 1-xmin\n",
    "a = 5\n",
    "b = -0.9999999999\n",
    "print \"Exact value \", TMath.BetaIncomplete(x, a+1, b+1) * TMath.Beta(a+1, b+1)"
   ]
  }
 ],
 "metadata": {},
 "nbformat": 4,
 "nbformat_minor": 2
}
