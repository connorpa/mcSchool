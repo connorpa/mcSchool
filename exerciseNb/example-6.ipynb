{
 "cells": [
  {
   "cell_type": "markdown",
   "metadata": {},
   "source": [
    "# Calculation of the sudakov using MC method\n",
    "Import libraries which will be needed"
   ]
  },
  {
   "cell_type": "code",
   "execution_count": null,
   "metadata": {},
   "outputs": [],
   "source": [
    "from math import pi, sqrt, log, exp\n",
    "from ROOT import TH1D, TCanvas, gRandom,gStyle"
   ]
  },
  {
   "cell_type": "markdown",
   "metadata": {},
   "source": [
    "The alpha strong function, input q is in GeV"
   ]
  },
  {
   "cell_type": "code",
   "execution_count": null,
   "metadata": {},
   "outputs": [],
   "source": [
    "def alphaS(q):\n",
    "    QCDlam = 0.2  #Lambda QCD for 3 flavours\n",
    "    Qlam0  = 1    #scale freezing\n",
    "    nf     = 3    #number of flavours\n",
    "    beta0  = (33 - 2*nf) / 6 \n",
    "    Qval = max(Qlam0, q)\n",
    "    return pi / (beta0*log(Qval/QCDlam))"
   ]
  },
  {
   "cell_type": "markdown",
   "metadata": {},
   "source": [
    "The splitting function at the LO without $\\alpha_S$"
   ]
  },
  {
   "cell_type": "code",
   "execution_count": null,
   "metadata": {},
   "outputs": [],
   "source": [
    "def Splitting(z):\n",
    "    return 6*(1/z -2 +z*(1-z) + 1/(1-z)) #g -> g\n",
    "    #return 4/3*((1+z*z)/(1-z)) #q -> q"
   ]
  },
  {
   "cell_type": "markdown",
   "metadata": {},
   "source": [
    "Integrand inside of the Sudakov"
   ]
  },
  {
   "cell_type": "code",
   "execution_count": null,
   "metadata": {},
   "outputs": [],
   "source": [
    "def suda(t1, t2):\n",
    "    # Generate randomly q2\n",
    "    q2 = t1*pow(t2/t1, gRandom.Uniform())\n",
    "    # we generate here z1 = 1-z, \n",
    "    # because we have a pole in the splitting functions \\sim 1/(1-z)       \n",
    "    # Generate randomly z1\n",
    "    z1min,z1max = 0.01, 0.99\n",
    "    z1= z1min*pow(z1max/z1min, gRandom.Uniform())\n",
    "\n",
    "    z = 1. - z1\n",
    "    q = sqrt(q2)\n",
    "    integrand = alphaS(q)/2/pi * Splitting(z) /q2\t \n",
    "    weight = q2*log(t2/t1) * z1*log(z1max/z1min)\n",
    "    return integrand*weight "
   ]
  },
  {
   "cell_type": "markdown",
   "metadata": {},
   "source": [
    "Function to calculate the Sudakov"
   ]
  },
  {
   "cell_type": "code",
   "execution_count": null,
   "metadata": {},
   "outputs": [],
   "source": [
    "def Sudakov(t1, t2):\n",
    "    sum0 = sum00 = 0\n",
    "    npoints = 1000\n",
    "    for i in range(npoints):\n",
    "        ff = suda(t1, t2)\n",
    "        sum0  +=  ff\n",
    "        sum00 +=  ff**2\n",
    "    sum0  /= npoints\n",
    "    sum00 /= npoints\n",
    "    sigma2 = sum00 - sum0*sum0\n",
    "    error = sqrt(sigma2/npoints)\n",
    "\n",
    "    sudakov = exp(-sum0)\n",
    "    sudError = sudakov*error #Error of the sudakov\n",
    "    return sudakov"
   ]
  },
  {
   "cell_type": "markdown",
   "metadata": {},
   "source": [
    "Book a histogram"
   ]
  },
  {
   "cell_type": "code",
   "execution_count": null,
   "metadata": {},
   "outputs": [],
   "source": [
    "TH1D.SetDefaultSumw2()\n",
    "ntmax = 20\n",
    "tmin, tmax = 1., 500. \n",
    "histo1 = TH1D(\"sudakov\",\";q^{2};sudakov\", ntmax, tmin, tmax)"
   ]
  },
  {
   "cell_type": "markdown",
   "metadata": {},
   "source": [
    "Loop over data points in the histogram"
   ]
  },
  {
   "cell_type": "code",
   "execution_count": null,
   "metadata": {},
   "outputs": [],
   "source": [
    "for nt in range(1, ntmax+1):\n",
    "    t1 = histo1.GetBinCenter(nt)\n",
    "    sudakov = Sudakov(t1, tmax)\n",
    "    sudError = 0\n",
    "    print \" t2 = \", tmax , \" t1 = \", t1 , \" Delta_S = \" , sudakov , \" +-\" , sudError \n",
    "    histo1.SetBinContent(nt, sudakov)\n",
    "    histo1.SetBinError(nt, sudError)"
   ]
  },
  {
   "cell_type": "markdown",
   "metadata": {},
   "source": [
    "Plot the Sudakov factor"
   ]
  },
  {
   "cell_type": "code",
   "execution_count": null,
   "metadata": {},
   "outputs": [],
   "source": [
    "c = TCanvas()\n",
    "gStyle.SetPadTickY(1) # ticks at right side\n",
    "gStyle.SetOptStat(0)  # get rid of statistics box\n",
    "c.SetLogy()\n",
    "histo1.Draw()\n",
    "c.Draw()"
   ]
  }
 ],
 "metadata": {
  "jupytext": {
   "main_language": "python",
   "text_representation": {
    "extension": ".py",
    "format_name": "light"
   }
  },
  "kernelspec": {
   "display_name": "Python 2",
   "name": "python2"
  }
 },
 "nbformat": 4,
 "nbformat_minor": 2
}
