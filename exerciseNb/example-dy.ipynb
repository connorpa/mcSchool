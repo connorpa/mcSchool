{
 "cells": [
  {
   "cell_type": "markdown",
   "metadata": {},
   "source": [
    "# Calculation of the DY cross section\n",
    "First import from ROOT libraries which  are needed"
   ]
  },
  {
   "cell_type": "code",
   "execution_count": null,
   "metadata": {},
   "outputs": [],
   "source": [
    "from  ROOT import TH1D, TCanvas, gRandom\n",
    "from  math import log, sqrt, pi\n",
    "import  lhapdf"
   ]
  },
  {
   "cell_type": "markdown",
   "metadata": {},
   "source": [
    "Define the cross section formula for DY q + qb -> mu+ mu-, without  the charge of the quark, according to formula (48.3) in [pdgReview](http://pdg.lbl.gov/2014/reviews/rpp2014-rev-cross-section-formulae.pdf), notice different color factor due to the inverted process"
   ]
  },
  {
   "cell_type": "code",
   "execution_count": null,
   "metadata": {},
   "outputs": [],
   "source": [
    "def sigma(shat):\n",
    "    Nc = 3 #number of colors \n",
    "    aem = 1./137 #alphaEM\n",
    "    ge2mb = 0.389379 #from natural units to mb\n",
    "    return 1./Nc * 4*pi*aem**2/(3*shat) *ge2mb"
   ]
  },
  {
   "cell_type": "markdown",
   "metadata": {},
   "source": [
    "Define PDF to be used"
   ]
  },
  {
   "cell_type": "code",
   "execution_count": null,
   "metadata": {},
   "outputs": [],
   "source": [
    "name = \"MRST2007lomod\"\t\n",
    "pdf = lhapdf.getPDFSet(name).mkPDF(0)"
   ]
  },
  {
   "cell_type": "markdown",
   "metadata": {},
   "source": [
    "Define histograms to be filed"
   ]
  },
  {
   "cell_type": "code",
   "execution_count": null,
   "metadata": {},
   "outputs": [],
   "source": [
    "hEta  = TH1D(\"eta\", \"Eta\", 20, -12, 12)\n",
    "hMass = TH1D(\"mass\", \"Mass\", 20, 40, 60)"
   ]
  },
  {
   "cell_type": "markdown",
   "metadata": {},
   "source": [
    "Define the beam eneryg of the protons"
   ]
  },
  {
   "cell_type": "code",
   "execution_count": null,
   "metadata": {},
   "outputs": [],
   "source": [
    "Eb = 6500\n",
    "xmin = 1e-5\n",
    "xmax = pdf.xMax"
   ]
  },
  {
   "cell_type": "markdown",
   "metadata": {},
   "source": [
    "Define the number of points to be generated"
   ]
  },
  {
   "cell_type": "code",
   "execution_count": null,
   "metadata": {},
   "outputs": [],
   "source": [
    "npoints = 1000000"
   ]
  },
  {
   "cell_type": "markdown",
   "metadata": {},
   "source": [
    "Generate npoint pairs of random numbers with congruent generator and fill it to 2D histogram"
   ]
  },
  {
   "cell_type": "code",
   "execution_count": null,
   "metadata": {},
   "outputs": [],
   "source": [
    "s1 = s2 = 0\n",
    "for n in range(npoints):\n",
    "    #Importance sampling in x1 and x2\n",
    "    x1 = xmin * (xmax/xmin)**gRandom.Uniform()\n",
    "    x2 = xmin * (xmax/xmin)**gRandom.Uniform()\n",
    "    wgt = log(xmax/xmin)**2 * x1 * x2\n",
    "    \n",
    "    #mass and eta of DY\n",
    "    m   = 2*Eb*sqrt(x1*x2) \n",
    "    eta = 1./2*log(x1/x2)\n",
    "    #Accepted mass range\n",
    "    if m < 40 or m > 60:\n",
    "        continue\n",
    "\n",
    "    #to simplify calculation\n",
    "    def q1(id):\n",
    "        return pdf.xfxQ(id, x1, m) / x1\n",
    "    def q2(id):\n",
    "        return pdf.xfxQ(id, x2, m) / x2\n",
    "\n",
    "    # u*ub + c*cb\n",
    "    UPqqb = q1(2)*q2(-2) + q1(4)*q2(-4)\n",
    "    # d*db + s*sb + b*bb \n",
    "    DNqqb = q1(1)*q2(-1) + q1(3)*q2(-3) + q1(5)*q2(-5)\n",
    "    # for 1 <-> 2\n",
    "    UPqbq = q1(-2)*q2(2) + q1(-4)*q2(4)\n",
    "    DNqbq = q1(-1)*q2(1) + q1(-3)*q2(3) + q1(-5)*q2(5)\n",
    "\n",
    "    #apply charges of quarks\n",
    "    res = ( (2./3)**2 * (UPqqb + UPqbq) + (1./3)**2 * (DNqqb + DNqbq) ) * sigma(m*m)\n",
    "    f = res * wgt\n",
    "\n",
    "    #fill histograms\n",
    "    hEta.Fill(eta, f)\n",
    "    hMass.Fill(m,  f)\n",
    "    s1 += f\n",
    "    s2 += f**2"
   ]
  },
  {
   "cell_type": "markdown",
   "metadata": {},
   "source": [
    "Divide by npoints"
   ]
  },
  {
   "cell_type": "code",
   "execution_count": null,
   "metadata": {},
   "outputs": [],
   "source": [
    "avg  = s1/npoints\n",
    "avg2 = s2/npoints"
   ]
  },
  {
   "cell_type": "markdown",
   "metadata": {},
   "source": [
    "Calculate the error"
   ]
  },
  {
   "cell_type": "code",
   "execution_count": null,
   "metadata": {},
   "outputs": [],
   "source": [
    "sigma2 = avg2 - avg**2\n",
    "err = sqrt(sigma2/npoints)"
   ]
  },
  {
   "cell_type": "markdown",
   "metadata": {},
   "source": [
    "Print the x-section"
   ]
  },
  {
   "cell_type": "code",
   "execution_count": null,
   "metadata": {},
   "outputs": [],
   "source": [
    "print 'Cross section for pp -> mu+mu- is ', avg, '+-', err, 'mb'"
   ]
  },
  {
   "cell_type": "markdown",
   "metadata": {},
   "source": [
    "Plot histograms"
   ]
  },
  {
   "cell_type": "code",
   "execution_count": null,
   "metadata": {},
   "outputs": [],
   "source": [
    "c = TCanvas()\n",
    "hEta.Scale(1./npoints, \"width\")\n",
    "hEta.Draw()\n",
    "c.Draw()\n",
    "d = TCanvas()\n",
    "hMass.Scale(1./npoints, \"width\")\n",
    "hMass.Draw()\n",
    "d.Draw()"
   ]
  }
 ],
 "metadata": {},
 "nbformat": 4,
 "nbformat_minor": 2
}
