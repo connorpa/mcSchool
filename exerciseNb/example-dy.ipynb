{
 "cells": [
  {
   "cell_type": "markdown",
   "metadata": {},
   "source": [
    "# Calculation of the DY cross section\n",
    "First import from ROOT libraries which  are needed"
   ]
  },
  {
   "cell_type": "code",
   "execution_count": null,
   "metadata": {},
   "outputs": [],
   "source": [
    "from  ROOT import TH1D, TCanvas, gRandom\n",
    "from  math import log, sqrt, pi\n",
    "import  lhapdf"
   ]
  },
  {
   "cell_type": "markdown",
   "metadata": {},
   "source": [
    "Define the cross section formula for DY q + qb -> mu+ mu-, without  the charge of the quark, according to formula (48.3) in [pdgReview](http://pdg.lbl.gov/2014/reviews/rpp2014-rev-cross-section-formulae.pdf), notice different color factor due to the inverted process"
   ]
  },
  {
   "cell_type": "code",
   "execution_count": null,
   "metadata": {},
   "outputs": [],
   "source": [
    "def sigma(shat):\n",
    "    Nc = 3 #number of colors \n",
    "    aem = 1./137 #alphaEM\n",
    "    ge2mb = 0.389379 #from natural units to mb\n",
    "    return 1./Nc * 4*pi*aem**2/(3*shat) *ge2mb"
   ]
  },
  {
   "cell_type": "markdown",
   "metadata": {},
   "source": [
    "Define PDF to be used"
   ]
  },
  {
   "cell_type": "code",
   "execution_count": null,
   "metadata": {},
   "outputs": [],
   "source": [
    "name = \"MRST2007lomod\"\t\n",
    "pdf = lhapdf.getPDFSet(name).mkPDF(0)"
   ]
  },
  {
   "cell_type": "markdown",
   "metadata": {},
   "source": [
    "Define histograms to be filed"
   ]
  },
  {
   "cell_type": "code",
   "execution_count": null,
   "metadata": {},
   "outputs": [],
   "source": [
    "hEta  = TH1D(\"eta\", \"Eta\", 20, -12, 12)\n",
    "hMass = TH1D(\"mass\", \"Mass\", 20, 40, 60)"
   ]
  },
  {
   "cell_type": "markdown",
   "metadata": {},
   "source": [
    "Define the beam eneryg of the protons"
   ]
  },
  {
   "cell_type": "code",
   "execution_count": null,
   "metadata": {},
   "outputs": [],
   "source": [
    "Eb = 6500\n",
    "xmin = 1e-5\n",
    "xmax = pdf.xMax"
   ]
  },
  {
   "cell_type": "markdown",
   "metadata": {},
   "source": [
    "Define the number of points to be generated"
   ]
  },
  {
   "cell_type": "code",
   "execution_count": null,
   "metadata": {},
   "outputs": [],
   "source": [
    "npoints = 1000000"
   ]
  },
  {
   "cell_type": "markdown",
   "metadata": {},
   "source": [
    "Generate npoint pairs of random numbers with congruent generator and fill it to 2D histogram"
   ]
  },
  {
   "cell_type": "code",
   "execution_count": null,
   "metadata": {},
   "outputs": [],
   "source": [
    "s1 = s2 = 0\n",
    "for n in range(npoints):\n",
    "    #Importance sampling in x1 and x2\n",
    "    x1 = xmin * (xmax/xmin)**gRandom.Uniform()\n",
    "    x2 = xmin * (xmax/xmin)**gRandom.Uniform()\n",
    "    wgt = log(xmax/xmin)**2 * x1 * x2\n",
    "    \n",
    "    #mass and eta of DY\n",
    "    m   = 2*Eb*sqrt(x1*x2) \n",
    "    eta = 1./2*log(x1/x2)\n",
    "    #Accepted mass range\n",
    "    if m < 40 or m > 60:\n",
    "        continue\n",
    "\n",
    "    #to simplify calculation\n",
    "    def q(id, x):\n",
    "        return pdf.xfxQ(id, x, m) / x\n",
    "    def qq(id):\n",
    "        return q(id,x1)*q(-id,x2) + q(-id,x1)*q(id,x2) \n",
    "\n",
    "    # u*ub + c*cb\n",
    "    UP = qq(2) + qq(4)\n",
    "    # d*db + s*sb + b*bb \n",
    "    DN = qq(1) + qq(3) + qq(5)\n",
    "\n",
    "    ##apply charges of quarks\n",
    "    res = ((2./3)**2 * UP + (1./3)**2 * DN) * sigma(m*m)\n",
    "    f = res * wgt\n",
    "\n",
    "    #fill histograms\n",
    "    hEta.Fill(eta, f)\n",
    "    hMass.Fill(m,  f)\n",
    "    s1 += f\n",
    "    s2 += f**2"
   ]
  },
  {
   "cell_type": "markdown",
   "metadata": {},
   "source": [
    "Divide by npoints"
   ]
  },
  {
   "cell_type": "code",
   "execution_count": null,
   "metadata": {},
   "outputs": [],
   "source": [
    "avg  = s1/npoints\n",
    "avg2 = s2/npoints"
   ]
  },
  {
   "cell_type": "markdown",
   "metadata": {},
   "source": [
    "Calculate the error"
   ]
  },
  {
   "cell_type": "code",
   "execution_count": null,
   "metadata": {},
   "outputs": [],
   "source": [
    "sigma2 = avg2 - avg**2\n",
    "err = sqrt(sigma2/npoints)"
   ]
  },
  {
   "cell_type": "markdown",
   "metadata": {},
   "source": [
    "Print the x-section"
   ]
  },
  {
   "cell_type": "code",
   "execution_count": null,
   "metadata": {},
   "outputs": [],
   "source": [
    "print 'Cross section for pp -> mu+mu- is ', avg, '+-', err, 'mb'"
   ]
  },
  {
   "cell_type": "markdown",
   "metadata": {},
   "source": [
    "Plot histograms"
   ]
  },
  {
   "cell_type": "code",
   "execution_count": null,
   "metadata": {},
   "outputs": [],
   "source": [
    "c = TCanvas()\n",
    "hEta.Scale(1./npoints, \"width\")\n",
    "hEta.Draw()\n",
    "c.Draw()\n",
    "d = TCanvas()\n",
    "hMass.Scale(1./npoints, \"width\")\n",
    "hMass.Draw()\n",
    "d.Draw()"
   ]
  }
 ],
 "metadata": {
  "jupytext": {
   "main_language": "python",
   "text_representation": {
    "extension": ".py",
    "format_name": "light"
   }
  },
  "kernelspec": {
   "display_name": "Python 2",
   "name": "python2"
  }
 },
 "nbformat": 4,
 "nbformat_minor": 2
}
