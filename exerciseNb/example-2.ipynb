{
 "cells": [
  {
   "cell_type": "markdown",
   "metadata": {},
   "source": [
    "# Demonstration of the central limit theorem\n",
    "\n",
    "First import what is needed"
   ]
  },
  {
   "cell_type": "code",
   "execution_count": null,
   "metadata": {},
   "outputs": [],
   "source": [
    "from ROOT import TH1D, gRandom, TCanvas\n",
    "from math import sqrt"
   ]
  },
  {
   "cell_type": "markdown",
   "metadata": {},
   "source": [
    "Define histograms with sum of random numbers"
   ]
  },
  {
   "cell_type": "code",
   "execution_count": null,
   "metadata": {},
   "outputs": [],
   "source": [
    "points = [1, 2, 3, 6, 12, 20, 40]\n",
    "histos = {}\n",
    "for p in points:\n",
    "    histos[p] = TH1D(str(p), str(p), 100, -6, 6)"
   ]
  },
  {
   "cell_type": "markdown",
   "metadata": {},
   "source": [
    "Fill the histograms with random numbers"
   ]
  },
  {
   "cell_type": "code",
   "execution_count": null,
   "metadata": {},
   "outputs": [],
   "source": [
    "for n in range(100000):\n",
    "    for p in points:\n",
    "        x = 0.\n",
    "        for n2 in range(p):\n",
    "            x += gRandom.Uniform()\n",
    "        histos[p].Fill((x - p/2.)/sqrt(p/12.))"
   ]
  },
  {
   "cell_type": "markdown",
   "metadata": {},
   "source": [
    "Plot Histograms separately"
   ]
  },
  {
   "cell_type": "code",
   "execution_count": null,
   "metadata": {},
   "outputs": [],
   "source": [
    "c = []\n",
    "for p in points[:3]:\n",
    "    c.append(TCanvas())\n",
    "    histos[p].SetLineColor(p+1)\n",
    "    histos[p].Draw(\"hist e\")\n",
    "    c[-1].Draw()"
   ]
  },
  {
   "cell_type": "markdown",
   "metadata": {},
   "source": [
    "Plot histograms together"
   ]
  },
  {
   "cell_type": "code",
   "execution_count": null,
   "metadata": {},
   "outputs": [],
   "source": [
    "c.append(TCanvas())\n",
    "for p in points:\n",
    "    histos[p].Scale(1./histos[p].Integral());\n",
    "    histos[p].Draw(\"hist e\" if p == 1 else \"hist e same\");\n",
    "histos[1].SetMaximum(1.1*histos[40].GetMaximum())\n",
    "c[-1].Draw()"
   ]
  }
 ],
 "metadata": {
  "jupytext": {
   "main_language": "python",
   "text_representation": {
    "extension": ".py",
    "format_name": "light"
   }
  },
  "kernelspec": {
   "display_name": "Python 2",
   "name": "python2"
  }
 },
 "nbformat": 4,
 "nbformat_minor": 2
}
