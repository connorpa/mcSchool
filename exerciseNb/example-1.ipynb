{
 "cells": [
  {
   "cell_type": "markdown",
   "metadata": {},
   "source": [
    "# Correlations between random numbers\n",
    "First import from ROOT libraries which\n",
    "are needed"
   ]
  },
  {
   "cell_type": "code",
   "execution_count": null,
   "metadata": {},
   "outputs": [],
   "source": [
    "from  ROOT import TH2D, TCanvas, gRandom"
   ]
  },
  {
   "cell_type": "markdown",
   "metadata": {},
   "source": [
    "Define the 2D histograms to display the correlation between random numbers"
   ]
  },
  {
   "cell_type": "code",
   "execution_count": null,
   "metadata": {},
   "outputs": [],
   "source": [
    "histo1 = TH2D(\"congruental random numbers\",\"congruental random numbers \",100, 0, 1, 100, 0, 1)\n",
    "histo2 = TH2D(\"RANLUX\",\"RANLUX\",100, 0, 1, 100, 0, 1)"
   ]
  },
  {
   "cell_type": "markdown",
   "metadata": {},
   "source": [
    "Define our first congruent generator"
   ]
  },
  {
   "cell_type": "code",
   "execution_count": null,
   "metadata": {},
   "outputs": [],
   "source": [
    "def randCon():\n",
    "    im = 139968\n",
    "    randCon.r = (205*randCon.r+29573) % im #get next random number\n",
    "    return float(randCon.r) / im #return normalized one\n",
    "randCon.r = 4771 #Starting value (seed)"
   ]
  },
  {
   "cell_type": "markdown",
   "metadata": {},
   "source": [
    "Number of points to be generated"
   ]
  },
  {
   "cell_type": "code",
   "execution_count": null,
   "metadata": {},
   "outputs": [],
   "source": [
    "npoints = 100000"
   ]
  },
  {
   "cell_type": "markdown",
   "metadata": {},
   "source": [
    "Generate npoint pairs of random numbers"
   ]
  },
  {
   "cell_type": "code",
   "execution_count": null,
   "metadata": {},
   "outputs": [],
   "source": [
    "for n in range(npoints):\n",
    "    #Generate 2 random numbers with our generator\n",
    "    xC = randCon()\n",
    "    yC = randCon()\n",
    "    histo1.Fill(xC, yC)\n",
    "\n",
    "    #Generate 2 random numbers with our RANLUX\n",
    "    xRL = gRandom.Uniform()\n",
    "    yRL = gRandom.Uniform()\n",
    "    histo2.Fill(xRL, yRL)"
   ]
  },
  {
   "cell_type": "markdown",
   "metadata": {},
   "source": [
    "Plotting the results"
   ]
  },
  {
   "cell_type": "code",
   "execution_count": null,
   "metadata": {},
   "outputs": [],
   "source": [
    "c = TCanvas()\n",
    "histo1.Draw()\n",
    "c.Draw()"
   ]
  },
  {
   "cell_type": "code",
   "execution_count": null,
   "metadata": {},
   "outputs": [],
   "source": [
    "histo2.Draw()\n",
    "c.Draw()"
   ]
  }
 ],
 "metadata": {},
 "nbformat": 4,
 "nbformat_minor": 2
}
