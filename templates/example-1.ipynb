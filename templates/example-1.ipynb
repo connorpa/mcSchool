{
 "cells": [
  {
   "cell_type": "markdown",
   "metadata": {},
   "source": [
    "# Correlations between random numbers\n",
    "First import from ROOT libraries which are needed"
   ]
  },
  {
   "cell_type": "code",
   "execution_count": null,
   "metadata": {},
   "outputs": [],
   "source": [
    "from  ROOT import TH2D, TCanvas, gRandom"
   ]
  },
  {
   "cell_type": "markdown",
   "metadata": {},
   "source": [
    "Define the 2D histograms to display the correlation between random numbers"
   ]
  },
  {
   "cell_type": "code",
   "execution_count": null,
   "metadata": {
    "lines_to_next_cell": 1
   },
   "outputs": [],
   "source": [
    "hConguent= TH2D(\"Congruent\", \"congruental random numbers \",100, 0, 1, 100, 0, 1)\n",
    "hRANLUX = TH2D(\"RANLUX\", \"RANLUX\",100, 0, 1, 100, 0, 1)"
   ]
  },
  {
   "cell_type": "markdown",
   "metadata": {},
   "source": [
    "Define our first congruent generator"
   ]
  },
  {
   "cell_type": "code",
   "execution_count": null,
   "metadata": {},
   "outputs": [],
   "source": [
    "def randCon():\n",
    "    im = 139968\n",
    "    randCon.r = (205*randCon.r+29573) % im #get next random number\n",
    "    return float(randCon.r) / im #return normalized one\n",
    "randCon.r = 4771 #Starting value (seed)"
   ]
  },
  {
   "cell_type": "markdown",
   "metadata": {},
   "source": [
    "Number of points to be generated"
   ]
  },
  {
   "cell_type": "code",
   "execution_count": null,
   "metadata": {},
   "outputs": [],
   "source": [
    "npoints = 100 # TODO: start with a small value, then increase once the code is working"
   ]
  },
  {
   "cell_type": "markdown",
   "metadata": {},
   "source": [
    "Generate npoint pairs of random numbers with congruent generator and fill it to 2D histogram"
   ]
  },
  {
   "cell_type": "code",
   "execution_count": null,
   "metadata": {},
   "outputs": [],
   "source": [
    "for n in range(npoints):\n",
    "    xC = # TODO\n",
    "    yC = # TODO\n",
    "    hConguent.Fill(xC, yC)"
   ]
  },
  {
   "cell_type": "markdown",
   "metadata": {},
   "source": [
    "Do the same for the more advanced random number generator"
   ]
  },
  {
   "cell_type": "code",
   "execution_count": null,
   "metadata": {},
   "outputs": [],
   "source": [
    "for n in range(npoints):\n",
    "    xRL = # TODO\n",
    "    yRL = # TODO\n",
    "    hRANLUX.Fill(xRL, yRL)"
   ]
  },
  {
   "cell_type": "markdown",
   "metadata": {},
   "source": [
    "Plotting the results"
   ]
  },
  {
   "cell_type": "code",
   "execution_count": null,
   "metadata": {},
   "outputs": [],
   "source": [
    "c = TCanvas()\n",
    "hConguent.Draw()\n",
    "c.Draw()"
   ]
  },
  {
   "cell_type": "code",
   "execution_count": null,
   "metadata": {},
   "outputs": [],
   "source": [
    "d = TCanvas()\n",
    "hRANLUX.Draw()\n",
    "d.Draw()"
   ]
  }
 ],
 "metadata": {
  "jupytext": {
   "executable": "/usr/bin/env  python",
   "main_language": "python"
  },
  "kernelspec": {
   "display_name": "Python 2",
   "language": "python",
   "name": "python2"
  },
  "language_info": {
   "codemirror_mode": {
    "name": "ipython",
    "version": 2
   },
   "file_extension": ".py",
   "mimetype": "text/x-python",
   "name": "python",
   "nbconvert_exporter": "python",
   "pygments_lexer": "ipython2",
   "version": "2.7.12"
  }
 },
 "nbformat": 4,
 "nbformat_minor": 2
}
