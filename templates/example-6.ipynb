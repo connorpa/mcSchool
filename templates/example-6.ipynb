{
 "cells": [
  {
   "cell_type": "markdown",
   "metadata": {},
   "source": [
    "# Calculation of the sudakov using MC method\n",
    "Import libraries which will be needed"
   ]
  },
  {
   "cell_type": "code",
   "execution_count": 2,
   "metadata": {
    "lines_to_next_cell": 1
   },
   "outputs": [
    {
     "name": "stdout",
     "output_type": "stream",
     "text": [
      "Welcome to JupyROOT 6.12/07\n"
     ]
    }
   ],
   "source": [
    "from math import pi, sqrt, log, exp\n",
    "from ROOT import TH1D, TCanvas, gRandom,gStyle"
   ]
  },
  {
   "cell_type": "markdown",
   "metadata": {},
   "source": [
    "The alpha strong function, input q is in GeV"
   ]
  },
  {
   "cell_type": "code",
   "execution_count": 2,
   "metadata": {
    "lines_to_next_cell": 1
   },
   "outputs": [],
   "source": [
    "def alphaS(q):\n",
    "    QCDlam = 0.2  #Lambda QCD for 3 flavours\n",
    "    Qlam0  = 1    #scale freezing\n",
    "    nf     = 3    #number of flavours\n",
    "    beta0  = (33 - 2*nf) / 6 \n",
    "    Qval = max(Qlam0, q)\n",
    "    return pi / (beta0*log(Qval/QCDlam))"
   ]
  },
  {
   "cell_type": "markdown",
   "metadata": {},
   "source": [
    "The splitting function at the LO without $\\alpha_S$"
   ]
  },
  {
   "cell_type": "code",
   "execution_count": 3,
   "metadata": {
    "lines_to_next_cell": 1
   },
   "outputs": [],
   "source": [
    "def Splitting(z):\n",
    "    return # TODO"
   ]
  },
  {
   "cell_type": "markdown",
   "metadata": {},
   "source": [
    "Integrand inside of the Sudakov"
   ]
  },
  {
   "cell_type": "code",
   "execution_count": 4,
   "metadata": {
    "lines_to_next_cell": 1
   },
   "outputs": [],
   "source": [
    "def suda(t1, t2):\n",
    "    q2 = # TODO: pick scale in [t1,t2] with 1/x pdf\n",
    "\n",
    "    z1min,z1max = 0.01, 0.99\n",
    "    z1= # TODO: pick fraction in [z1min,z1max]\n",
    "    z = 1. - z1 # only useful of Pqq\n",
    "    \n",
    "    q = sqrt(q2)\n",
    "    integrand = # TODO\n",
    "    weight = # TODO\n",
    "    return integrand*weight "
   ]
  },
  {
   "cell_type": "markdown",
   "metadata": {},
   "source": [
    "Function to calculate the Sudakov"
   ]
  },
  {
   "cell_type": "code",
   "execution_count": 5,
   "metadata": {
    "lines_to_next_cell": 1
   },
   "outputs": [],
   "source": [
    "def Sudakov(t1, t2):\n",
    "    sum0 = sum00 = 0\n",
    "    npoints = 1000\n",
    "    for i in range(npoints):\n",
    "        ff = suda(t1, t2)\n",
    "        sum0  +=  ff\n",
    "        sum00 +=  ff**2\n",
    "    sum0  /= npoints\n",
    "    sum00 /= npoints\n",
    "    sigma2 = sum00 - sum0*sum0\n",
    "    error = sqrt(sigma2/npoints)\n",
    "\n",
    "    sudakov = exp(-sum0)\n",
    "    sudError = sudakov*error #Error of the sudakov\n",
    "    return sudakov, sudError"
   ]
  },
  {
   "cell_type": "markdown",
   "metadata": {},
   "source": [
    "Book a histogram"
   ]
  },
  {
   "cell_type": "code",
   "execution_count": 4,
   "metadata": {},
   "outputs": [],
   "source": [
    "TH1D.SetDefaultSumw2()\n",
    "ntmax = 20\n",
    "tmin, tmax = 1., 500. \n",
    "histo1 = TH1D(\"sudakov\",\";q^{2};sudakov\", ntmax, tmin, tmax)"
   ]
  },
  {
   "cell_type": "markdown",
   "metadata": {},
   "source": [
    "Loop over data points in the histogram"
   ]
  },
  {
   "cell_type": "code",
   "execution_count": 7,
   "metadata": {},
   "outputs": [
    {
     "name": "stdout",
     "output_type": "stream",
     "text": [
      " t2 =  500.0  t1 =  13.475  Delta_S =  0.00254276353573  +- 0\n",
      " t2 =  500.0  t1 =  38.425  Delta_S =  0.0341903409223  +- 0\n",
      " t2 =  500.0  t1 =  63.375  Delta_S =  0.0497398635377  +- 0\n",
      " t2 =  500.0  t1 =  88.325  Delta_S =  0.116500104878  +- 0\n",
      " t2 =  500.0  t1 =  113.275  Delta_S =  0.162819864285  +- 0\n",
      " t2 =  500.0  t1 =  138.225  Delta_S =  0.156774558814  +- 0\n",
      " t2 =  500.0  t1 =  163.175  Delta_S =  0.257305234915  +- 0\n",
      " t2 =  500.0  t1 =  188.125  Delta_S =  0.343508447289  +- 0\n",
      " t2 =  500.0  t1 =  213.075  Delta_S =  0.318915520495  +- 0\n",
      " t2 =  500.0  t1 =  238.025  Delta_S =  0.450458364721  +- 0\n",
      " t2 =  500.0  t1 =  262.975  Delta_S =  0.469277436552  +- 0\n",
      " t2 =  500.0  t1 =  287.925  Delta_S =  0.519629205121  +- 0\n",
      " t2 =  500.0  t1 =  312.875  Delta_S =  0.569457722549  +- 0\n",
      " t2 =  500.0  t1 =  337.825  Delta_S =  0.599333164413  +- 0\n",
      " t2 =  500.0  t1 =  362.775  Delta_S =  0.664715601466  +- 0\n",
      " t2 =  500.0  t1 =  387.725  Delta_S =  0.709433942912  +- 0\n",
      " t2 =  500.0  t1 =  412.675  Delta_S =  0.784524805282  +- 0\n",
      " t2 =  500.0  t1 =  437.625  Delta_S =  0.846152493091  +- 0\n",
      " t2 =  500.0  t1 =  462.575  Delta_S =  0.920484831795  +- 0\n",
      " t2 =  500.0  t1 =  487.525  Delta_S =  0.969879973746  +- 0\n"
     ]
    }
   ],
   "source": [
    "for nt in range(1, ntmax+1):\n",
    "    t1 = # TODO: take bin center\n",
    "    sudakov, sudError = Sudakov(t1, tmax)\n",
    "    print \" t2 = \", tmax , \" t1 = \", t1 , \" Delta_S = \" , sudakov , \" +-\" , sudError \n",
    "    histo1.SetBinContent(nt, sudakov)\n",
    "    histo1.SetBinError(nt, sudError)"
   ]
  },
  {
   "cell_type": "markdown",
   "metadata": {},
   "source": [
    "Plot the Sudakov factor"
   ]
  },
  {
   "cell_type": "code",
   "execution_count": 5,
   "metadata": {},
   "outputs": [
    {
     "data": {
      "image/png": "[encoded data removed]",
      "text/plain": [
       "<IPython.core.display.Image object>"
      ]
     },
     "metadata": {},
     "output_type": "display_data"
    }
   ],
   "source": [
    "c = TCanvas()\n",
    "gStyle.SetPadTickY(1) # ticks at right side\n",
    "gStyle.SetOptStat(0)  # get rid of statistics box\n",
    "c.SetLogy()\n",
    "histo1.Draw()\n",
    "c.Draw()"
   ]
  }
 ],
 "metadata": {
  "jupytext": {
   "main_language": "python"
  },
  "kernelspec": {
   "display_name": "Python 2",
   "language": "python",
   "name": "python2"
  },
  "language_info": {
   "codemirror_mode": {
    "name": "ipython",
    "version": 2
   },
   "file_extension": ".py",
   "mimetype": "text/x-python",
   "name": "python",
   "nbconvert_exporter": "python",
   "pygments_lexer": "ipython2",
   "version": "2.7.12"
  }
 },
 "nbformat": 4,
 "nbformat_minor": 2
}
