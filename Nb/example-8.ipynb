{
 "cells": [
  {
   "cell_type": "markdown",
   "metadata": {},
   "source": [
    "# Calculate the cross section of the Higgs boson\n",
    "Import what is necessary"
   ]
  },
  {
   "cell_type": "code",
   "execution_count": null,
   "metadata": {
    "lines_to_next_cell": 1
   },
   "outputs": [],
   "source": [
    "from math import pi, sin, cos, log, log10, sqrt\n",
    "from ROOT import gRandom, gStyle, TLorentzVector, TCanvas, TH1D"
   ]
  },
  {
   "cell_type": "markdown",
   "metadata": {},
   "source": [
    "The cross section of the Higgs"
   ]
  },
  {
   "cell_type": "code",
   "execution_count": null,
   "metadata": {
    "lines_to_next_cell": 1
   },
   "outputs": [],
   "source": [
    "def sigma(m2):\n",
    "    # calculate sigma0(gg->H) \n",
    "    # sigma0 = as^2/pi /576 * GF * sqrt(2)*\\Delta(1.-tau) \n",
    "    aS = 0.1      #alphaS\n",
    "    GF = 1.166e-5 #Fermi constant\n",
    "    result = aS**2 * sqrt(2.) * GF /pi / 576. \n",
    "    m_higgs = 125.\n",
    "    Gamma = 0.4\n",
    "    BW = Gamma/(pow((mass-m_higgs),2) + pow(Gamma,2)/4)/2./pi\n",
    "    return result * BW"
   ]
  },
  {
   "cell_type": "markdown",
   "metadata": {},
   "source": [
    "Function to get randomly 2D Gaussian distribution"
   ]
  },
  {
   "cell_type": "code",
   "execution_count": null,
   "metadata": {
    "lines_to_next_cell": 1
   },
   "outputs": [],
   "source": [
    "def gauss2D(sigma):\n",
    "    kT  = sigma * sqrt(-2*log(gRandom.Uniform()))\n",
    "    phi = 2*pi * gRandom.Uniform()\n",
    "    kx = kT*cos(phi)\n",
    "    ky = kT*sin(phi)\n",
    "    return kx, ky"
   ]
  },
  {
   "cell_type": "markdown",
   "metadata": {},
   "source": [
    "Get the four-momentum of the parton according to the PDF"
   ]
  },
  {
   "cell_type": "code",
   "execution_count": null,
   "metadata": {
    "lines_to_next_cell": 1
   },
   "outputs": [],
   "source": [
    "Eb = 3500 # Beam energy\n",
    "def getpdf(q2):\n",
    "    xmin = 0.00001\n",
    "    xmax = 0.999\n",
    "    x = xmin*pow(xmax/xmin, gRandom.Uniform())\n",
    "    weightx =  x*log(xmax/xmin) \n",
    "    # this is for the simple case            \n",
    "    pdf = 3.*pow((1-x),5)/x\n",
    "\n",
    "    weight = weightx * pdf\n",
    "    kx, ky = gauss2D(0.7)\n",
    "    pVec = TLorentzVector()\n",
    "    pVec.SetXYZM(kx, ky, x*Eb, 0.)\n",
    "    return pVec, weight"
   ]
  },
  {
   "cell_type": "markdown",
   "metadata": {},
   "source": [
    "Book the histograms"
   ]
  },
  {
   "cell_type": "code",
   "execution_count": null,
   "metadata": {},
   "outputs": [],
   "source": [
    "histo1  =  TH1D(\"x1\",\"x1\",100, -5, 0.)\n",
    "histo2  =  TH1D(\"x2\",\"x2\",100, -5, 0.)\n",
    "histo3  =  TH1D(\"kt1 \",\"kt1 \",100, 0, 10.)\n",
    "histo4  =  TH1D(\"kt2 \",\"kt2 \",100, 0, 10.)\n",
    "histo5  =  TH1D(\"pt \",\"pt \",50, 0, 10.)\n",
    "histo6  =  TH1D(\"eta \",\"eta\",50, -8, 8.)\n",
    "histo7  =  TH1D(\"Mass \",\"mass\",50, 60., 160.)"
   ]
  },
  {
   "cell_type": "markdown",
   "metadata": {},
   "source": [
    "Scale of the process and the mass window"
   ]
  },
  {
   "cell_type": "code",
   "execution_count": null,
   "metadata": {},
   "outputs": [],
   "source": [
    "q2 = 125**2\n",
    "mass_min = 0.\n",
    "mass_max = 200."
   ]
  },
  {
   "cell_type": "markdown",
   "metadata": {},
   "source": [
    "Loop over MC events"
   ]
  },
  {
   "cell_type": "code",
   "execution_count": null,
   "metadata": {},
   "outputs": [],
   "source": [
    "nacc = 0\n",
    "sum0 = sum00 = 0\n",
    "npoints = 100000\n",
    "for n1 in range(npoints):\n",
    "    # generate p4 of incoming parton 1\n",
    "    p1, weight1 = getpdf(q2)\n",
    "    # generate p4 of incoming parton 2\n",
    "    p2, weight2 = getpdf(q2)\n",
    "    p2.SetPz(-p2.Pz())\n",
    "\n",
    "    x1 = p1.Pz() / Eb\n",
    "    x2 =-p2.Pz() / Eb\n",
    "    # plot dxg(x)/dlogx *Jacobian, Jacobian dlogx/dx = 1/x\n",
    "    histo1.Fill(log10(x1),weight1/log(10))\n",
    "    histo2.Fill(log10(x2),weight2/log(10))\n",
    "    histo3.Fill(p1.Pt(), weight1)\n",
    "    histo4.Fill(p2.Pt(), weight2)\n",
    "\n",
    "    # total p4\n",
    "    pH = p1 + p2\n",
    "    mass = pH.M()\n",
    "\n",
    "    # calculate rapidity of Higgs\n",
    "    # rapidity = 0.5 * log(x1/x2) \n",
    "    if mass < mass_min or mass > mass_max:\n",
    "        continue\n",
    "    # note, pdfs are already included in weightx            \n",
    "    # Change units to nb\n",
    "    gev2nb = 0.3893857E+6\n",
    "    ff = weight1*weight2 * sigma(mass**2) * gev2nb\n",
    "\n",
    "    nacc += 1\n",
    "    sum0  +=  ff\n",
    "    sum00 +=  ff**2\n",
    "    # weighting with 1/x0:\n",
    "    # plot dxg(x)/dlogx *Jacobian, Jacobian dlogx/dx = 1/x\n",
    "\n",
    "    histo5.Fill(pH.Pt(), ff)\n",
    "    histo6.Fill(pH.Rapidity(), ff)\n",
    "    histo7.Fill(mass,  ff)"
   ]
  },
  {
   "cell_type": "markdown",
   "metadata": {},
   "source": [
    "Standard normalization and evaluation of the error"
   ]
  },
  {
   "cell_type": "code",
   "execution_count": null,
   "metadata": {},
   "outputs": [],
   "source": [
    "sum0  /= npoints\n",
    "sum00 /= npoints\n",
    "sigma2 = sum00 - sum0*sum0 \n",
    "error = sqrt(sigma2/npoints) \n",
    "print \" nr of events accepted: \", nacc \n",
    "print \" integral for Higgs xsection is [pb]: \" , sum0 * 1000., \" +/- \" , error*1000."
   ]
  },
  {
   "cell_type": "markdown",
   "metadata": {},
   "source": [
    "Plotting of x1, x2 and kT1 and kT2"
   ]
  },
  {
   "cell_type": "code",
   "execution_count": null,
   "metadata": {},
   "outputs": [],
   "source": [
    "#gROOT.SetStyle(\"Plain\")\n",
    "#gStyle->SetPadTickY(1) // ticks at right side\n",
    "gStyle.SetOptStat(0) # get rid of statistics box\n",
    "c = TCanvas()\n",
    "# divide the canvas in 1 parts in x and 1 in y\n",
    "c.Divide(2,2)\n",
    "c.cd(1)\n",
    "histo1.Scale(1./npoints, \"width\")\n",
    "histo1.Draw()\n",
    "c.cd(2)\n",
    "histo2.Scale(1./npoints, \"width\")\n",
    "histo2.Draw()\n",
    "c.cd(3)\n",
    "histo3.Draw()\n",
    "c.cd(4)\n",
    "histo4.Draw()\n",
    "c.Draw()"
   ]
  },
  {
   "cell_type": "markdown",
   "metadata": {},
   "source": [
    "Draw the pT, eta and mass of the Higgs boson"
   ]
  },
  {
   "cell_type": "code",
   "execution_count": null,
   "metadata": {},
   "outputs": [],
   "source": [
    "c5 = TCanvas()\n",
    "histo5.Draw()\n",
    "c5.Draw()\n",
    "c6 = TCanvas()\n",
    "histo6.Draw()\n",
    "c6.Draw()\n",
    "c7 = TCanvas()\n",
    "histo7.Draw()\n",
    "c7.Draw()"
   ]
  }
 ],
 "metadata": {
  "jupytext": {
   "main_language": "python"
  },
  "kernelspec": {
   "display_name": "Python 2",
   "name": "python2"
  }
 },
 "nbformat": 4,
 "nbformat_minor": 2
}
