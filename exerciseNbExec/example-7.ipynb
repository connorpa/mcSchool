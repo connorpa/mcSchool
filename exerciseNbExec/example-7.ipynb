{
 "cells": [
  {
   "cell_type": "markdown",
   "metadata": {},
   "source": [
    "# Demonstration of the pdf evolution using MC method\n",
    "First lets load the libraries which will be needed"
   ]
  },
  {
   "cell_type": "code",
   "execution_count": 1,
   "metadata": {},
   "outputs": [
    {
     "name": "stdout",
     "output_type": "stream",
     "text": [
      "Welcome to JupyROOT 6.12/07\n"
     ]
    }
   ],
   "source": [
    "from math import pi, sin, cos, sqrt, log, log10, exp\n",
    "from ROOT import gRandom, gStyle, TCanvas, TH1D, TLorentzVector"
   ]
  },
  {
   "cell_type": "markdown",
   "metadata": {},
   "source": [
    "Define function which returns 2D point according to the Gaussian distribution"
   ]
  },
  {
   "cell_type": "code",
   "execution_count": 2,
   "metadata": {},
   "outputs": [],
   "source": [
    "def gauss2D(sigma):\n",
    "    kT  = sigma * sqrt(-2*log(gRandom.Uniform()));\n",
    "    phi = 2*pi * gRandom.Uniform()\n",
    "    kx, ky = kT*cos(phi), kT*sin(phi)\n",
    "    return (kx, ky)"
   ]
  },
  {
   "cell_type": "markdown",
   "metadata": {},
   "source": [
    "Get PDF at the scale q2 (currently no dependece on q2)"
   ]
  },
  {
   "cell_type": "code",
   "execution_count": 3,
   "metadata": {},
   "outputs": [],
   "source": [
    "Eb = 3500 # Beam energy\n",
    "def getpdf(q2):\n",
    "    xmin = 0.00001\n",
    "    xmax = 0.999\n",
    "    x = xmin * (xmax/xmin)**gRandom.Uniform()\n",
    "    weightx = x*log(xmax/xmin) \n",
    "    # this is for the simple case            \n",
    "    pdf = 3.*pow((1-x),5)/x\n",
    "\n",
    "    kx, ky = gauss2D(0.7)\n",
    "    pVec = TLorentzVector()\n",
    "    pVec.SetXYZM(kx, ky, x*Eb, 0.)\n",
    "    return pVec, weightx * pdf"
   ]
  },
  {
   "cell_type": "markdown",
   "metadata": {},
   "source": [
    "Function to calculate the next scale in the evolution"
   ]
  },
  {
   "cell_type": "code",
   "execution_count": 4,
   "metadata": {},
   "outputs": [],
   "source": [
    "def getNextScale(t0):\n",
    "    #   here we calculate  from the sudakov form factor the next t > t0\n",
    "    epsilon = 0.1\n",
    "    as2pi = 0.1/(2.*pi)\n",
    "    Ca = 3.\n",
    "    # for Pgg use fact = 2*Ca\n",
    "    fac = 2.*Ca \n",
    "    # use fixed alphas and only the 1/(1-z) term of the splitting fct\n",
    "\n",
    "    r1 = gRandom.Uniform()\n",
    "    Pint=log((1.-epsilon)/epsilon) # for 1/(1-z) splitting fct \n",
    "    t2 = -log(r1)/fac/as2pi/Pint\n",
    "    t2 = t0 * exp(t2)\n",
    "    assert(t2 >= t0)\n",
    "    return t2"
   ]
  },
  {
   "cell_type": "markdown",
   "metadata": {},
   "source": [
    "The splitting function which is needed to get the z on the branching point"
   ]
  },
  {
   "cell_type": "code",
   "execution_count": 5,
   "metadata": {},
   "outputs": [],
   "source": [
    "def splitting():\n",
    "    epsilon = 0.1\n",
    "    #error ~ C / sqrt(Nevents)\n",
    "    #z = epsilon + (1 - 2*epsilon) *Rand()\n",
    "    #weightz = as2pi* 6 (1./z + 1./(1.-z))\n",
    "    #return\n",
    "\n",
    "    as2pi = 0.1/2./pi\n",
    "\n",
    "    #\t\there we calculate  the splitting variable z for 1/z and  1/(1-z)\n",
    "    #\t\tuse Pgg=6./z \n",
    "    # + 6./(1.-z))  // z -> 1-z\n",
    "\n",
    "    g0 = 6.*as2pi * log((1.-epsilon)/epsilon)\n",
    "    g1 = 6.*as2pi * log((1.-epsilon)/epsilon)\n",
    "    gtot = g0 + g1 \n",
    "\n",
    "    zmin = epsilon\n",
    "    zmax = 1.-epsilon\n",
    "\n",
    "    r1 = gRandom.Uniform()\n",
    "    r2 = gRandom.Uniform()\n",
    "\n",
    "    z = zmin * (zmax/zmin)**r2\n",
    "    if r1 > g0/gtot:\n",
    "        z = 1. - z\n",
    "    weightz = 1.\n",
    "    return z"
   ]
  },
  {
   "cell_type": "markdown",
   "metadata": {},
   "source": [
    "Evolve the PDF between scales q20 and q2, the kinematics of the parton in the beggining is described by four-vector p0"
   ]
  },
  {
   "cell_type": "code",
   "execution_count": 6,
   "metadata": {},
   "outputs": [],
   "source": [
    "def evolve_pdf(q20, q2, p0):\n",
    "    x = p0.Pz()/Eb\n",
    "    kx = p0.Px()\n",
    "    ky = p0.Py()\n",
    "    weightx = 1.\n",
    "    t1 = q20\n",
    "    tcut = q2\n",
    "    while t1 < tcut:\n",
    "        # here we do now the evolution\n",
    "        # first we generate t\n",
    "        t0 = t1\n",
    "        t1 = getNextScale(t0) \n",
    "        # now we generate z\n",
    "        z = splitting()\n",
    "        #   since the sudakov involves only the 1/(1-z) part \n",
    "        #   of the splitting fct, we need to weight each branching\n",
    "        #   by the ratio of the intgral of the full and \n",
    "        #   approximate splitting fct\n",
    "\n",
    "        ratio_splitting = 2 # for using Pgg\n",
    "\n",
    "        if  t1 < tcut:\n",
    "            x = x*z\n",
    "            weightx = weightx *ratio_splitting\n",
    "            # \n",
    "            # use here the angular ordering condition: sqrt(t1) = qt/(1-z) \n",
    "            # and apply this also to the propagator gluons\n",
    "            #\n",
    "            phi = 2*pi*gRandom.Uniform()\n",
    "            kx +=  sqrt(t1)*cos(phi)*(1.-z)\n",
    "            ky +=  sqrt(t1)*sin(phi)*(1.-z)                     \n",
    "            #   kx += sqrt(t1)*cos(phi)\n",
    "            #   ky += sqrt(t1)*sin(phi)                     \n",
    "    p1 = TLorentzVector()\n",
    "    p1.SetXYZM(kx, ky, x*Eb, 0.)\n",
    "    return p1, weightx"
   ]
  },
  {
   "cell_type": "markdown",
   "metadata": {},
   "source": [
    "Book few histograms which will be needed"
   ]
  },
  {
   "cell_type": "code",
   "execution_count": 7,
   "metadata": {},
   "outputs": [],
   "source": [
    "histo1  =  TH1D(\"x0\",\"x0\",100, -5, 0.)\n",
    "histo2  =  TH1D(\"kt0 \",\"kt0 \",100, 0, 10.)\n",
    "histo3  =  TH1D(\"x\",\"x\",100, -5, 0.)\n",
    "histo4  =  TH1D(\"kt \",\"kt \",100, 0, 100.)"
   ]
  },
  {
   "cell_type": "markdown",
   "metadata": {},
   "source": [
    "Do the evolution between scales q20 and q21 npoints times"
   ]
  },
  {
   "cell_type": "code",
   "execution_count": 8,
   "metadata": {},
   "outputs": [],
   "source": [
    "q20 = 1\n",
    "q21 = 100**2\n",
    "npoints = 100000\n",
    "for n1 in range(npoints):\n",
    "    # generate starting distribution in x and kt\n",
    "    p0, weight0 = getpdf(q20)\n",
    "    # now do the evolution\t\n",
    "    p1, weight1 = evolve_pdf(q20, q21, p0)   \n",
    "    weight = weight0 * weight1\n",
    "\n",
    "    # weighting with 1/x0:\n",
    "    # plot dxg(x)/dlogx *Jacobian, Jacobian dlogx/dx = 1/x\n",
    "    # log(x) = 2.3026 log10(x)\n",
    "    x   = p1.Pz()/Eb\n",
    "    x0  = p0.Pz()/Eb\n",
    "    #At the starting scale q20\n",
    "    histo1.Fill(log10(x0), weight0)\n",
    "    histo2.Fill(p0.Pt(), weight0)\n",
    "    #At the final scale q2\n",
    "    histo3.Fill(log10(x),  weight)\n",
    "    histo4.Fill(p1.Pt(), weight)"
   ]
  },
  {
   "cell_type": "markdown",
   "metadata": {},
   "source": [
    "Plot the x distribution in the starting scale and after the evolution"
   ]
  },
  {
   "cell_type": "code",
   "execution_count": 9,
   "metadata": {},
   "outputs": [
    {
     "data": {
      "image/png": "[encoded data removed]",
      "text/plain": [
       "<IPython.core.display.Image object>"
      ]
     },
     "metadata": {},
     "output_type": "display_data"
    }
   ],
   "source": [
    "gStyle.SetOptStat(0) # get rid of statistics box\n",
    "c = TCanvas();\n",
    "c.Divide(2,1);\n",
    "c.cd(1);\n",
    "histo1.Scale(1./npoints/log(10), \"width\");\n",
    "# gPad.SetLogy();\n",
    "histo1.Draw(\"hist e\");\n",
    "\n",
    "c.cd(2);\n",
    "histo3.Scale(1./npoints/log(10), \"width\");\n",
    "c.SetLogy();\n",
    "histo3.Draw(\"hist e\");\n",
    "c.Draw()"
   ]
  },
  {
   "cell_type": "markdown",
   "metadata": {},
   "source": [
    "Plot the kT distribution in the starting scale and after the evolution"
   ]
  },
  {
   "cell_type": "code",
   "execution_count": 10,
   "metadata": {},
   "outputs": [
    {
     "data": {
      "image/png": "[encoded data removed]",
      "text/plain": [
       "<IPython.core.display.Image object>"
      ]
     },
     "metadata": {},
     "output_type": "display_data"
    }
   ],
   "source": [
    "d = TCanvas();\n",
    "d.Divide(2,1);\n",
    "d.cd(1);\n",
    "histo2.Scale(1./npoints, \"width\");\n",
    "histo2.Draw(\"hist e\");\n",
    "\n",
    "d.cd(2);\n",
    "histo4.Scale(1./npoints, \"width\");\n",
    "d.SetLogy();\n",
    "histo4.Draw(\"hist e\");\n",
    "d.Draw()"
   ]
  }
 ],
 "metadata": {
  "language_info": {
   "codemirror_mode": {
    "name": "ipython",
    "version": 2
   },
   "file_extension": ".py",
   "mimetype": "text/x-python",
   "name": "python",
   "nbconvert_exporter": "python",
   "pygments_lexer": "ipython2",
   "version": "2.7.12"
  }
 },
 "nbformat": 4,
 "nbformat_minor": 2
}
