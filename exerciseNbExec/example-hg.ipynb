{
 "cells": [
  {
   "cell_type": "markdown",
   "metadata": {},
   "source": [
    "# Calculation of the Higgs cross section\n",
    "The Higgs production cross section at LHC will be caluclated\n",
    "The dominant production mechanism is the gg fusion:\n",
    "![gg2H](https://upload.wikimedia.org/wikipedia/commons/0/0e/Higgs-gluon-fusion.svg)  \n",
    "First let's import libraries which  are needed"
   ]
  },
  {
   "cell_type": "code",
   "execution_count": 1,
   "metadata": {},
   "outputs": [
    {
     "name": "stdout",
     "output_type": "stream",
     "text": [
      "Welcome to JupyROOT 6.12/07\n"
     ]
    }
   ],
   "source": [
    "from  ROOT import TH1D, TCanvas, gRandom\n",
    "from  math import exp, log, sqrt, pi\n",
    "import  lhapdf"
   ]
  },
  {
   "cell_type": "markdown",
   "metadata": {},
   "source": [
    "Define the cross section formula for g+g -> H, the Breit Wiegner formula taken from  [pdgReview](http://pdg.lbl.gov/2014/reviews/rpp2014-rev-cross-section-formulae.pdf). The branching ratio for H -> gg taken from [twiki](https://twiki.cern.ch/twiki/bin/view/LHCPhysics/HiggsEuropeanStrategy2012#SM_Higgs_production_cross_se_AN2). Notice that the total decay width and the branching ratio to gluons are the most precise results available, calculated at least at NNLO."
   ]
  },
  {
   "cell_type": "code",
   "execution_count": 2,
   "metadata": {},
   "outputs": [],
   "source": [
    "mH   = 125      #Higgs mass\n",
    "def sigma(shat):\n",
    "    ge2mb = 0.389379 #from natural units to mb\n",
    "    Bin = 0.0857     #The H->gg  BR (production mode)\n",
    "#   Bin = 0.0630585  #The H->gg  BR (production mode)\n",
    "    Bout = 1         #The H->any BR\n",
    "    w    = 0.00407   #Higgs total decay width\n",
    "#   w    = 0.00374   #Higgs total decay width\n",
    "    Ncg  = 8         #Number of colors for gluon\n",
    "    Nsg  = 2         #Number of spin projections for gluon\n",
    "\n",
    "    E = sqrt(shat)  \n",
    "    bw  = 1./Ncg**2 * 1./Nsg**2 *  16*pi/shat *  w**2/4/( (E-mH)**2 + w**2/4) * Bin * Bout\n",
    "    bw *= 2   #magic factor due to identical gluons\n",
    "\n",
    "    return bw * ge2mb"
   ]
  },
  {
   "cell_type": "markdown",
   "metadata": {},
   "source": [
    "Define PDF to be used"
   ]
  },
  {
   "cell_type": "code",
   "execution_count": 3,
   "metadata": {},
   "outputs": [
    {
     "name": "stdout",
     "output_type": "stream",
     "text": [
      "LHAPDF 6.2.1 loading /lhapdf/install/share/LHAPDF/MRST2004qed_proton/MRST2004qed_proton_0000.dat\n",
      "MRST2004qed_proton PDF set, member #0, version 3; LHAPDF ID = 20463\n"
     ]
    }
   ],
   "source": [
    "name = \"MRST2007lomod\"\t\n",
    "name = \"MRST2004qed_proton\"\t\n",
    "pdf = lhapdf.getPDFSet(name).mkPDF(0)"
   ]
  },
  {
   "cell_type": "markdown",
   "metadata": {},
   "source": [
    "Define histograms to be filed, `dmH` half of the generated mass widht, `dy` is half of the rapidity interval of the interest"
   ]
  },
  {
   "cell_type": "code",
   "execution_count": 4,
   "metadata": {},
   "outputs": [],
   "source": [
    "dmH = 0.100\n",
    "dy = 5\n",
    "hEta  = TH1D(\"eta\", \"Eta of H\", 20, -dy, dy)\n",
    "hMass = TH1D(\"mass\", \"Mass of H\", 61, mH-dmH, mH+dmH)"
   ]
  },
  {
   "cell_type": "markdown",
   "metadata": {},
   "source": [
    "Define the beam energy of the protons"
   ]
  },
  {
   "cell_type": "code",
   "execution_count": 5,
   "metadata": {},
   "outputs": [],
   "source": [
    "Eb = 6500"
   ]
  },
  {
   "cell_type": "markdown",
   "metadata": {},
   "source": [
    "Define the number of points to be generated"
   ]
  },
  {
   "cell_type": "code",
   "execution_count": 6,
   "metadata": {},
   "outputs": [],
   "source": [
    "npoints = 1200000"
   ]
  },
  {
   "cell_type": "markdown",
   "metadata": {},
   "source": [
    "Generate npoints of \"events\""
   ]
  },
  {
   "cell_type": "code",
   "execution_count": 7,
   "metadata": {},
   "outputs": [],
   "source": [
    "lnM2min = log((mH-dmH)**2)\n",
    "lnM2max = log((mH+dmH)**2)\n",
    "yMin = -dy\n",
    "yMax = +dy"
   ]
  },
  {
   "cell_type": "code",
   "execution_count": 8,
   "metadata": {},
   "outputs": [],
   "source": [
    "s1 = s2 = 0\n",
    "for n in range(npoints):\n",
    "    #Linear sampling in lnM2 and rapidiyt y\n",
    "    lnM2 = lnM2min + (lnM2max - lnM2min)*gRandom.Uniform()\n",
    "    y    = yMin    + (yMax    -    yMin)*gRandom.Uniform()\n",
    "    m = exp(0.5*lnM2)\n",
    "\n",
    "    #Get x1 and x2\n",
    "    x1 = m/(2*Eb) * exp(+y)\n",
    "    x2 = m/(2*Eb) * exp(-y)\n",
    "\n",
    "    #if outside of the physical phase space\n",
    "    if x1 > 1 or x2 > 1:\n",
    "        continue\n",
    "\n",
    "    #Weight from linear sampling\n",
    "    wgt = (lnM2max - lnM2min)*(yMax - yMin)\n",
    "    \n",
    "    #gluon PDF\n",
    "    def g(x):\n",
    "        return pdf.xfxQ(0, x, m)\n",
    "\n",
    "    #Convolution of PDFs and x-section\n",
    "    res = g(x1)*g(x2)*sigma(m*m)\n",
    "    f = res * wgt\n",
    "\n",
    "    #fill histograms\n",
    "    hMass.Fill(m,  f)\n",
    "    hEta.Fill(y, f)\n",
    "    s1 += f\n",
    "    s2 += f**2"
   ]
  },
  {
   "cell_type": "markdown",
   "metadata": {},
   "source": [
    "Divide by npoints"
   ]
  },
  {
   "cell_type": "code",
   "execution_count": 9,
   "metadata": {},
   "outputs": [],
   "source": [
    "avg  = s1/npoints\n",
    "avg2 = s2/npoints"
   ]
  },
  {
   "cell_type": "markdown",
   "metadata": {},
   "source": [
    "Calculate the error"
   ]
  },
  {
   "cell_type": "code",
   "execution_count": 10,
   "metadata": {},
   "outputs": [],
   "source": [
    "sigma2 = avg2 - avg**2\n",
    "err = sqrt(sigma2/npoints)"
   ]
  },
  {
   "cell_type": "markdown",
   "metadata": {},
   "source": [
    "Print the x-section"
   ]
  },
  {
   "cell_type": "code",
   "execution_count": 11,
   "metadata": {},
   "outputs": [
    {
     "name": "stdout",
     "output_type": "stream",
     "text": [
      "Cross section for pp -> H is  2.36312027152e-08 +- 1.12645737668e-10 mb\n"
     ]
    }
   ],
   "source": [
    "print 'Cross section for pp -> H is ', avg, '+-', err, 'mb'"
   ]
  },
  {
   "cell_type": "markdown",
   "metadata": {},
   "source": [
    "Plot histograms"
   ]
  },
  {
   "cell_type": "code",
   "execution_count": 12,
   "metadata": {},
   "outputs": [
    {
     "data": {
      "image/png": "[encoded data removed]",
      "text/plain": [
       "<IPython.core.display.Image object>"
      ]
     },
     "metadata": {},
     "output_type": "display_data"
    },
    {
     "data": {
      "image/png": "[encoded data removed]",
      "text/plain": [
       "<IPython.core.display.Image object>"
      ]
     },
     "metadata": {},
     "output_type": "display_data"
    }
   ],
   "source": [
    "c = TCanvas()\n",
    "hEta.Scale(1./npoints, \"width\")\n",
    "hEta.Draw()\n",
    "c.Draw()\n",
    "d = TCanvas()\n",
    "hMass.Scale(1./npoints, \"width\")\n",
    "hMass.Draw(\"hist e\")\n",
    "d.Draw()"
   ]
  }
 ],
 "metadata": {
  "jupytext": {
   "main_language": "python",
   "text_representation": {
    "extension": ".py",
    "format_name": "light"
   }
  },
  "kernelspec": {
   "display_name": "Python 2",
   "name": "python2"
  },
  "language_info": {
   "codemirror_mode": {
    "name": "ipython",
    "version": 2
   },
   "file_extension": ".py",
   "mimetype": "text/x-python",
   "name": "python",
   "nbconvert_exporter": "python",
   "pygments_lexer": "ipython2",
   "version": "2.7.12"
  }
 },
 "nbformat": 4,
 "nbformat_minor": 2
}
