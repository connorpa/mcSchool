{
 "cells": [
  {
   "cell_type": "markdown",
   "metadata": {},
   "source": [
    "# Playing with parton densities\n",
    "## Checking the sum rules"
   ]
  },
  {
   "cell_type": "code",
   "execution_count": 1,
   "metadata": {},
   "outputs": [
    {
     "name": "stdout",
     "output_type": "stream",
     "text": [
      "Welcome to JupyROOT 6.12/07\n"
     ]
    }
   ],
   "source": [
    "from ROOT import gRandom\n",
    "from math import sqrt, log\n",
    "import lhapdf"
   ]
  },
  {
   "cell_type": "markdown",
   "metadata": {},
   "source": [
    "Import the pdf by name, try also \"MRST2004nlo\" or \"MRST2007lomod\" (LO)"
   ]
  },
  {
   "cell_type": "code",
   "execution_count": 2,
   "metadata": {},
   "outputs": [
    {
     "name": "stdout",
     "output_type": "stream",
     "text": [
      "LHAPDF 6.2.1 loading /lhapdf/install/share/LHAPDF/MRST2007lomod/MRST2007lomod_0000.dat\n",
      "MRST2007lomod PDF set, member #0, version 2; LHAPDF ID = 20650\n"
     ]
    }
   ],
   "source": [
    "name = \"MRST2007lomod\"\t\n",
    "pdf = lhapdf.getPDFSet(name).mkPDF(0)"
   ]
  },
  {
   "cell_type": "markdown",
   "metadata": {},
   "source": [
    "We will evaluate the sum rule at scale 10 GeV"
   ]
  },
  {
   "cell_type": "code",
   "execution_count": 3,
   "metadata": {},
   "outputs": [],
   "source": [
    "Q = 10.0"
   ]
  },
  {
   "cell_type": "markdown",
   "metadata": {},
   "source": [
    "Get the xmin and xmin from info in the PDF set"
   ]
  },
  {
   "cell_type": "code",
   "execution_count": 4,
   "metadata": {},
   "outputs": [],
   "source": [
    "xmin, xmax = pdf.xMin, pdf.xMax"
   ]
  },
  {
   "cell_type": "markdown",
   "metadata": {},
   "source": [
    "MC integration with importance sampling 1/x"
   ]
  },
  {
   "cell_type": "code",
   "execution_count": 5,
   "metadata": {},
   "outputs": [],
   "source": [
    "npoints = 10000\n",
    "sum0 = sum00 = 0\n",
    "for n in range(npoints):\n",
    "    # for importance sampling\n",
    "    x = xmin * (xmax/xmin)**gRandom.Uniform()\n",
    "    #  sum over all flavors for mom sum rule\n",
    "    f=0\n",
    "    for fl in range(-6, 7):\n",
    "        f += pdf.xfxQ(fl, x, Q)\n",
    "\n",
    "    ff = f*x*log(xmax/xmin)\n",
    "    sum0  +=  ff\n",
    "    sum00 +=  ff**2"
   ]
  },
  {
   "cell_type": "markdown",
   "metadata": {},
   "source": [
    "Normalize to npoints and calculate the error"
   ]
  },
  {
   "cell_type": "code",
   "execution_count": 6,
   "metadata": {},
   "outputs": [],
   "source": [
    "sum0  /= npoints\n",
    "sum00 /= npoints\n",
    "sigma2 = sum00 - sum0*sum0\n",
    "error = sqrt(sigma2/npoints)"
   ]
  },
  {
   "cell_type": "markdown",
   "metadata": {},
   "source": [
    "And finally result:"
   ]
  },
  {
   "cell_type": "code",
   "execution_count": 7,
   "metadata": {},
   "outputs": [
    {
     "name": "stdout",
     "output_type": "stream",
     "text": [
      " momentum sum rule is:  1.11037212566 +/- 0.0116142870197\n"
     ]
    }
   ],
   "source": [
    "print \" momentum sum rule is: \", sum0, \"+/-\", error"
   ]
  },
  {
   "cell_type": "markdown",
   "metadata": {},
   "source": [
    "## Plot some PDFs for fun\n",
    "Import what is needed"
   ]
  },
  {
   "cell_type": "code",
   "execution_count": 8,
   "metadata": {},
   "outputs": [],
   "source": [
    "from ROOT import TGraph, TCanvas, kRed"
   ]
  },
  {
   "cell_type": "markdown",
   "metadata": {},
   "source": [
    "Evaluate the gluon and up-quark pdf at the xPoints with logarithmic spacing"
   ]
  },
  {
   "cell_type": "code",
   "execution_count": 9,
   "metadata": {},
   "outputs": [],
   "source": [
    "n = 100\n",
    "xPoints = [10**(5*x/float(n)) for x in range(-n,0) ]\n",
    "gPoints = [pdf.xfxQ(0, x, Q) for x in xPoints ] # 0 for gluon\n",
    "uPoints = [pdf.xfxQ(2, x, Q) for x in xPoints ] # 2 for up-quark"
   ]
  },
  {
   "cell_type": "markdown",
   "metadata": {},
   "source": [
    "Fill the TGraph object with the values of the lists above"
   ]
  },
  {
   "cell_type": "code",
   "execution_count": 10,
   "metadata": {},
   "outputs": [],
   "source": [
    "grG,grU = TGraph(), TGraph()\n",
    "for i in range(n):\n",
    "    grG.SetPoint(i, xPoints[i], gPoints[i])\n",
    "    grU.SetPoint(i, xPoints[i], uPoints[i])"
   ]
  },
  {
   "cell_type": "markdown",
   "metadata": {},
   "source": [
    "Plotting"
   ]
  },
  {
   "cell_type": "code",
   "execution_count": 11,
   "metadata": {},
   "outputs": [
    {
     "data": {
      "image/png": "[encoded data removed]",
      "text/plain": [
       "<IPython.core.display.Image object>"
      ]
     },
     "metadata": {},
     "output_type": "display_data"
    }
   ],
   "source": [
    "c = TCanvas()\n",
    "c.SetLogx();\n",
    "c.SetLogy();\n",
    "grG.SetLineColor(kRed)\n",
    "grG.Draw(\"alp\")\n",
    "grU.Draw(\"lp same\")\n",
    "c.Draw()"
   ]
  }
 ],
 "metadata": {
  "jupytext": {
   "main_language": "python",
   "text_representation": {
    "extension": ".py",
    "format_name": "light"
   }
  },
  "kernelspec": {
   "display_name": "Python 2",
   "name": "python2"
  },
  "language_info": {
   "codemirror_mode": {
    "name": "ipython",
    "version": 2
   },
   "file_extension": ".py",
   "mimetype": "text/x-python",
   "name": "python",
   "nbconvert_exporter": "python",
   "pygments_lexer": "ipython2",
   "version": "2.7.12"
  }
 },
 "nbformat": 4,
 "nbformat_minor": 2
}
