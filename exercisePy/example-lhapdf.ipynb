{
 "cells": [
  {
   "cell_type": "markdown",
   "metadata": {},
   "source": [
    "Imprort ROOT, math functions, lhapdf"
   ]
  },
  {
   "cell_type": "code",
   "execution_count": null,
   "metadata": {},
   "outputs": [],
   "source": [
    "from ROOT import gRandom\n",
    "from math import sqrt, log\n",
    "import lhapdf"
   ]
  },
  {
   "cell_type": "markdown",
   "metadata": {},
   "source": [
    "Import the pdf by name, try also \"MRST2004nlo\" or \"MRST2007lomod\" (LO)"
   ]
  },
  {
   "cell_type": "code",
   "execution_count": null,
   "metadata": {},
   "outputs": [],
   "source": [
    "name = \"MRSTMCal\"\t\n",
    "pdf = lhapdf.getPDFSet(name).mkPDF(0)"
   ]
  },
  {
   "cell_type": "markdown",
   "metadata": {},
   "source": [
    "We will evaluate the sum rule at scale 10 GeV"
   ]
  },
  {
   "cell_type": "code",
   "execution_count": null,
   "metadata": {},
   "outputs": [],
   "source": [
    "Q = 10.0"
   ]
  },
  {
   "cell_type": "markdown",
   "metadata": {},
   "source": [
    "Get the xmin and xmin from info in the PDF set"
   ]
  },
  {
   "cell_type": "code",
   "execution_count": null,
   "metadata": {},
   "outputs": [],
   "source": [
    "xmin, xmax = pdf.xMin, pdf.xMax"
   ]
  },
  {
   "cell_type": "markdown",
   "metadata": {},
   "source": [
    "MC integration with importance sampling 1/x"
   ]
  },
  {
   "cell_type": "code",
   "execution_count": null,
   "metadata": {},
   "outputs": [],
   "source": [
    "npoints = 10000\n",
    "sum0 = sum00 = 0\n",
    "for n in range(npoints):\n",
    "    # for simple integration\n",
    "    # x = xmin + (xmax-xmin)*Rand();\n",
    "    # for importance sampling\n",
    "    x = xmin * (xmax/xmin)**gRandom.Uniform()\n",
    "    #  sum over all flavors for mom sum rule\n",
    "    f=0\n",
    "    for fl in range(-6, 7):\n",
    "        f += pdf.xfxQ(fl, x, Q)\n",
    "\n",
    "    ff = f*x*log(xmax/xmin)\n",
    "    sum0  +=  ff\n",
    "    sum00 +=  ff**2"
   ]
  },
  {
   "cell_type": "markdown",
   "metadata": {},
   "source": [
    "Normalize to npoints and calculate the error"
   ]
  },
  {
   "cell_type": "code",
   "execution_count": null,
   "metadata": {},
   "outputs": [],
   "source": [
    "sum0  /= npoints\n",
    "sum00 /= npoints\n",
    "sigma2 = sum00 - sum0*sum0\n",
    "error = sqrt(sigma2/npoints)"
   ]
  },
  {
   "cell_type": "markdown",
   "metadata": {},
   "source": [
    "And finally result:"
   ]
  },
  {
   "cell_type": "code",
   "execution_count": null,
   "metadata": {},
   "outputs": [],
   "source": [
    "print \" momentum sum rule is: \", sum0, \"+/-\", error"
   ]
  }
 ],
 "metadata": {},
 "nbformat": 4,
 "nbformat_minor": 2
}
